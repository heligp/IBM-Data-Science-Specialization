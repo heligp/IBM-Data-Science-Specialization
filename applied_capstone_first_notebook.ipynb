{
 "cells": [
  {
   "cell_type": "markdown",
   "metadata": {},
   "source": [
    "# IBM APPLIED DATA SCIENCE CAPSTONE - FIRST PROYECT"
   ]
  },
  {
   "cell_type": "markdown",
   "metadata": {},
   "source": [
    "### In this Notebook we will do web scraping from the following link: <https://en.wikipedia.org/wiki/List_of_postal_codes_of_Canada:_M> in order to get a DataFrame with the information of many postal codes of Canad"
   ]
  },
  {
   "cell_type": "markdown",
   "metadata": {},
   "source": [
    "#### First we need to import the libraries we are going to use:"
   ]
  },
  {
   "cell_type": "code",
   "execution_count": 156,
   "metadata": {},
   "outputs": [],
   "source": [
    "from bs4 import BeautifulSoup\n",
    "import requests\n",
    "import pandas as pd\n"
   ]
  },
  {
   "cell_type": "markdown",
   "metadata": {},
   "source": [
    "#### Here is the web scraping to receive the information of the website"
   ]
  },
  {
   "cell_type": "code",
   "execution_count": 258,
   "metadata": {},
   "outputs": [],
   "source": [
    "url='https://en.wikipedia.org/wiki/List_of_postal_codes_of_Canada:_M'\n",
    "results=requests.get(url)\n",
    "soup=BeautifulSoup(results.content,\"xml\")\n",
    "table=soup.find_all('table',class_='wikitable')\n",
    "table=table[0]\n"
   ]
  },
  {
   "cell_type": "markdown",
   "metadata": {},
   "source": [
    "#### In this cell we are going to make a dictionary, separting the results of web scraping in different keys."
   ]
  },
  {
   "cell_type": "code",
   "execution_count": 259,
   "metadata": {
    "scrolled": false
   },
   "outputs": [],
   "source": [
    "dict={'Postal Code':[],'Borough':[],'Neighborhood':[]}\n",
    "line=1\n",
    "postal_code=[]\n",
    "borough =[]\n",
    "neighborhood=[]\n",
    "# In every iteration we are going to append the content of one cell, to the dictionary in creation:\n",
    "for row in table.find_all('tr'):\n",
    "    line=1\n",
    "    for cell in row.find_all('td'):\n",
    "        if line == 1:\n",
    "            postal_code.append(cell.text.replace(\"\\n\",\"\"))\n",
    "        elif line==2:\n",
    "            borough.append(cell.text.replace(\"\\n\",\"\"))\n",
    "        elif line ==3:\n",
    "            neighborhood.append(cell.text.replace(\"\\n\",\"\").replace(\"/\",\",\"))\n",
    "        line+=1\n",
    "dict['Postal Code'].extend(postal_code)\n",
    "dict['Borough'].extend(borough)\n",
    "dict['Neighborhood'].extend(neighborhood)\n"
   ]
  },
  {
   "cell_type": "markdown",
   "metadata": {},
   "source": [
    "#### From the dictionary, we are going to make the DataFrame"
   ]
  },
  {
   "cell_type": "code",
   "execution_count": 266,
   "metadata": {},
   "outputs": [],
   "source": [
    "df=pd.DataFrame.from_dict(dict)\n",
    "\n",
    "# Following the instructions of the assignment, we are going to drop all the 'Not assigned cells'\n",
    "df=df[df['Borough']!='Not assigned'].reset_index()\n",
    "df.drop(['index'],axis=1,inplace=True)"
   ]
  },
  {
   "cell_type": "markdown",
   "metadata": {},
   "source": [
    "#### In the following cells, we are ready to have a look and then compare this DataFrame vs the original table (of lines up-link)."
   ]
  },
  {
   "cell_type": "code",
   "execution_count": 262,
   "metadata": {},
   "outputs": [],
   "source": [
    "df"
   ]
  },
  {
   "cell_type": "code",
   "execution_count": 265,
   "metadata": {},
   "outputs": [
    {
     "data": {
      "text/plain": [
       "(103, 3)"
      ]
     },
     "execution_count": 265,
     "metadata": {},
     "output_type": "execute_result"
    }
   ],
   "source": [
    "df.shape"
   ]
  }
 ],
 "metadata": {
  "kernelspec": {
   "display_name": "Python 3",
   "language": "python",
   "name": "python3"
  },
  "language_info": {
   "codemirror_mode": {
    "name": "ipython",
    "version": 3
   },
   "file_extension": ".py",
   "mimetype": "text/x-python",
   "name": "python",
   "nbconvert_exporter": "python",
   "pygments_lexer": "ipython3",
   "version": "3.7.3"
  }
 },
 "nbformat": 4,
 "nbformat_minor": 2
}
